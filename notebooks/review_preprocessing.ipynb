{
 "cells": [
  {
   "cell_type": "code",
   "execution_count": 5,
   "id": "7e086cf3",
   "metadata": {},
   "outputs": [],
   "source": [
    "import pandas as pd\n",
    "import re\n",
    "import emoji"
   ]
  },
  {
   "cell_type": "code",
   "execution_count": 33,
   "id": "cc5f99a4",
   "metadata": {},
   "outputs": [],
   "source": [
    "# Load your reviews CSV file\n",
    "df = pd.read_csv(\"../Data/BOA.csv\")  # Adjust your filename"
   ]
  },
  {
   "cell_type": "code",
   "execution_count": 34,
   "id": "d8c23585",
   "metadata": {},
   "outputs": [],
   "source": [
    "# Function to clean each review\n",
    "def clean_text(text):\n",
    "    if pd.isnull(text):\n",
    "        return \"\"\n",
    "    \n",
    "    # Remove emojis\n",
    "    text = emoji.replace_emoji(text, replace='')  # removes all emojis\n",
    "    \n",
    "    # Remove non-ASCII characters (Amharic, etc.)\n",
    "    text = re.sub(r'[^\\x00-\\x7F]+', ' ', text)\n",
    "    \n",
    "    # Remove non-alphanumeric characters (except basic punctuation)\n",
    "    text = re.sub(r'[^a-zA-Z0-9\\s.,!?\\'\"-]', ' ', text)\n",
    "    \n",
    "    # Normalize whitespace\n",
    "    text = re.sub(r'\\s+', ' ', text).strip()\n",
    "    \n",
    "    return text"
   ]
  },
  {
   "cell_type": "code",
   "execution_count": 35,
   "id": "49b5f9b0",
   "metadata": {},
   "outputs": [],
   "source": [
    "# Apply cleaning\n",
    "df['cleaned_review'] = df['review_text'].apply(clean_text)\n",
    "\n"
   ]
  },
  {
   "cell_type": "code",
   "execution_count": 36,
   "id": "2e9d6330",
   "metadata": {},
   "outputs": [],
   "source": [
    "# Move 'date' column to the first position\n",
    "cols = df.columns.tolist()\n",
    "cols.insert(0, cols.pop(cols.index('date')))\n",
    "df = df[cols]"
   ]
  },
  {
   "cell_type": "code",
   "execution_count": 37,
   "id": "33e4012c",
   "metadata": {},
   "outputs": [
    {
     "data": {
      "text/html": [
       "<div>\n",
       "<style scoped>\n",
       "    .dataframe tbody tr th:only-of-type {\n",
       "        vertical-align: middle;\n",
       "    }\n",
       "\n",
       "    .dataframe tbody tr th {\n",
       "        vertical-align: top;\n",
       "    }\n",
       "\n",
       "    .dataframe thead th {\n",
       "        text-align: right;\n",
       "    }\n",
       "</style>\n",
       "<table border=\"1\" class=\"dataframe\">\n",
       "  <thead>\n",
       "    <tr style=\"text-align: right;\">\n",
       "      <th></th>\n",
       "      <th>date</th>\n",
       "      <th>review_text</th>\n",
       "      <th>rating</th>\n",
       "      <th>bank_name</th>\n",
       "      <th>source</th>\n",
       "      <th>cleaned_review</th>\n",
       "    </tr>\n",
       "  </thead>\n",
       "  <tbody>\n",
       "    <tr>\n",
       "      <th>0</th>\n",
       "      <td>2025-06-09</td>\n",
       "      <td>the worst app humans ever created</td>\n",
       "      <td>1</td>\n",
       "      <td>Bank of Abyssinia</td>\n",
       "      <td>Google Play</td>\n",
       "      <td>the worst app humans ever created</td>\n",
       "    </tr>\n",
       "    <tr>\n",
       "      <th>1</th>\n",
       "      <td>2025-06-05</td>\n",
       "      <td>it's not working</td>\n",
       "      <td>3</td>\n",
       "      <td>Bank of Abyssinia</td>\n",
       "      <td>Google Play</td>\n",
       "      <td>it's not working</td>\n",
       "    </tr>\n",
       "    <tr>\n",
       "      <th>2</th>\n",
       "      <td>2025-06-03</td>\n",
       "      <td>Hello, I’m facing a problem with the BOA Mobil...</td>\n",
       "      <td>1</td>\n",
       "      <td>Bank of Abyssinia</td>\n",
       "      <td>Google Play</td>\n",
       "      <td>Hello, I m facing a problem with the BOA Mobil...</td>\n",
       "    </tr>\n",
       "    <tr>\n",
       "      <th>3</th>\n",
       "      <td>2025-06-03</td>\n",
       "      <td>exceptional</td>\n",
       "      <td>5</td>\n",
       "      <td>Bank of Abyssinia</td>\n",
       "      <td>Google Play</td>\n",
       "      <td>exceptional</td>\n",
       "    </tr>\n",
       "    <tr>\n",
       "      <th>4</th>\n",
       "      <td>2025-06-02</td>\n",
       "      <td>BoA Mobile good bank</td>\n",
       "      <td>5</td>\n",
       "      <td>Bank of Abyssinia</td>\n",
       "      <td>Google Play</td>\n",
       "      <td>BoA Mobile good bank</td>\n",
       "    </tr>\n",
       "  </tbody>\n",
       "</table>\n",
       "</div>"
      ],
      "text/plain": [
       "         date                                        review_text  rating  \\\n",
       "0  2025-06-09                  the worst app humans ever created       1   \n",
       "1  2025-06-05                                   it's not working       3   \n",
       "2  2025-06-03  Hello, I’m facing a problem with the BOA Mobil...       1   \n",
       "3  2025-06-03                                        exceptional       5   \n",
       "4  2025-06-02                               BoA Mobile good bank       5   \n",
       "\n",
       "           bank_name       source  \\\n",
       "0  Bank of Abyssinia  Google Play   \n",
       "1  Bank of Abyssinia  Google Play   \n",
       "2  Bank of Abyssinia  Google Play   \n",
       "3  Bank of Abyssinia  Google Play   \n",
       "4  Bank of Abyssinia  Google Play   \n",
       "\n",
       "                                      cleaned_review  \n",
       "0                  the worst app humans ever created  \n",
       "1                                   it's not working  \n",
       "2  Hello, I m facing a problem with the BOA Mobil...  \n",
       "3                                        exceptional  \n",
       "4                               BoA Mobile good bank  "
      ]
     },
     "execution_count": 37,
     "metadata": {},
     "output_type": "execute_result"
    }
   ],
   "source": [
    "df.head()"
   ]
  },
  {
   "cell_type": "code",
   "execution_count": 38,
   "id": "c8c9bdf5",
   "metadata": {},
   "outputs": [
    {
     "data": {
      "text/html": [
       "<div>\n",
       "<style scoped>\n",
       "    .dataframe tbody tr th:only-of-type {\n",
       "        vertical-align: middle;\n",
       "    }\n",
       "\n",
       "    .dataframe tbody tr th {\n",
       "        vertical-align: top;\n",
       "    }\n",
       "\n",
       "    .dataframe thead th {\n",
       "        text-align: right;\n",
       "    }\n",
       "</style>\n",
       "<table border=\"1\" class=\"dataframe\">\n",
       "  <thead>\n",
       "    <tr style=\"text-align: right;\">\n",
       "      <th></th>\n",
       "      <th>review_text</th>\n",
       "      <th>cleaned_review</th>\n",
       "    </tr>\n",
       "  </thead>\n",
       "  <tbody>\n",
       "    <tr>\n",
       "      <th>0</th>\n",
       "      <td>the worst app humans ever created</td>\n",
       "      <td>the worst app humans ever created</td>\n",
       "    </tr>\n",
       "    <tr>\n",
       "      <th>1</th>\n",
       "      <td>it's not working</td>\n",
       "      <td>it's not working</td>\n",
       "    </tr>\n",
       "    <tr>\n",
       "      <th>2</th>\n",
       "      <td>Hello, I’m facing a problem with the BOA Mobil...</td>\n",
       "      <td>Hello, I m facing a problem with the BOA Mobil...</td>\n",
       "    </tr>\n",
       "    <tr>\n",
       "      <th>3</th>\n",
       "      <td>exceptional</td>\n",
       "      <td>exceptional</td>\n",
       "    </tr>\n",
       "    <tr>\n",
       "      <th>4</th>\n",
       "      <td>BoA Mobile good bank</td>\n",
       "      <td>BoA Mobile good bank</td>\n",
       "    </tr>\n",
       "  </tbody>\n",
       "</table>\n",
       "</div>"
      ],
      "text/plain": [
       "                                         review_text  \\\n",
       "0                  the worst app humans ever created   \n",
       "1                                   it's not working   \n",
       "2  Hello, I’m facing a problem with the BOA Mobil...   \n",
       "3                                        exceptional   \n",
       "4                               BoA Mobile good bank   \n",
       "\n",
       "                                      cleaned_review  \n",
       "0                  the worst app humans ever created  \n",
       "1                                   it's not working  \n",
       "2  Hello, I m facing a problem with the BOA Mobil...  \n",
       "3                                        exceptional  \n",
       "4                               BoA Mobile good bank  "
      ]
     },
     "execution_count": 38,
     "metadata": {},
     "output_type": "execute_result"
    }
   ],
   "source": [
    "# Show example cleaned output\n",
    "df[['review_text', 'cleaned_review']].head()"
   ]
  },
  {
   "cell_type": "code",
   "execution_count": 39,
   "id": "fada09c1",
   "metadata": {},
   "outputs": [],
   "source": [
    "# Save cleaned results\n",
    "df.drop(columns=['review_text', 'bank_name', 'source']).to_csv(\"../data/BOA_cleaned.csv\", index=False)\n"
   ]
  },
  {
   "cell_type": "code",
   "execution_count": null,
   "id": "5fb288a7",
   "metadata": {},
   "outputs": [],
   "source": []
  }
 ],
 "metadata": {
  "kernelspec": {
   "display_name": ".venv",
   "language": "python",
   "name": "python3"
  },
  "language_info": {
   "codemirror_mode": {
    "name": "ipython",
    "version": 3
   },
   "file_extension": ".py",
   "mimetype": "text/x-python",
   "name": "python",
   "nbconvert_exporter": "python",
   "pygments_lexer": "ipython3",
   "version": "3.12.7"
  }
 },
 "nbformat": 4,
 "nbformat_minor": 5
}
