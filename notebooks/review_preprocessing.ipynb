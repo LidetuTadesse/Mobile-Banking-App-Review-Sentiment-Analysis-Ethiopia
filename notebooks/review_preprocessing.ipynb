{
 "cells": [
  {
   "cell_type": "code",
   "execution_count": 48,
   "id": "7e086cf3",
   "metadata": {},
   "outputs": [],
   "source": [
    "import pandas as pd\n",
    "import re\n",
    "import emoji"
   ]
  },
  {
   "cell_type": "code",
   "execution_count": 56,
   "id": "cc5f99a4",
   "metadata": {},
   "outputs": [],
   "source": [
    "# Load your reviews CSV file\n",
    "df = pd.read_csv(\"../Data/Dashen Bank.csv\")  # Adjust your filename"
   ]
  },
  {
   "cell_type": "code",
   "execution_count": 57,
   "id": "d8c23585",
   "metadata": {},
   "outputs": [],
   "source": [
    "# Function to clean each review\n",
    "def clean_text(text):\n",
    "    if pd.isnull(text):\n",
    "        return \"\"\n",
    "    \n",
    "    # Remove emojis\n",
    "    text = emoji.replace_emoji(text, replace='')  # removes all emojis\n",
    "    \n",
    "    # Remove non-ASCII characters (Amharic, etc.)\n",
    "    text = re.sub(r'[^\\x00-\\x7F]+', ' ', text)\n",
    "    \n",
    "    # Remove non-alphanumeric characters (except basic punctuation)\n",
    "    text = re.sub(r'[^a-zA-Z0-9\\s.,!?\\'\"-]', ' ', text)\n",
    "\n",
    "    # Keep only letters and whitespace\n",
    "    text = re.sub(r'[^a-zA-Z\\s]', ' ', text)\n",
    "    \n",
    "    # Normalize whitespace\n",
    "    text = re.sub(r'\\s+', ' ', text).strip()\n",
    "    \n",
    "    return text"
   ]
  },
  {
   "cell_type": "code",
   "execution_count": 58,
   "id": "49b5f9b0",
   "metadata": {},
   "outputs": [],
   "source": [
    "# Apply cleaning\n",
    "df['cleaned_review'] = df['review_text'].apply(clean_text)\n",
    "\n"
   ]
  },
  {
   "cell_type": "code",
   "execution_count": 59,
   "id": "2e9d6330",
   "metadata": {},
   "outputs": [],
   "source": [
    "# Move 'date' column to the first position\n",
    "cols = df.columns.tolist()\n",
    "cols.insert(0, cols.pop(cols.index('date')))\n",
    "df = df[cols]"
   ]
  },
  {
   "cell_type": "code",
   "execution_count": 60,
   "id": "33e4012c",
   "metadata": {},
   "outputs": [
    {
     "data": {
      "text/html": [
       "<div>\n",
       "<style scoped>\n",
       "    .dataframe tbody tr th:only-of-type {\n",
       "        vertical-align: middle;\n",
       "    }\n",
       "\n",
       "    .dataframe tbody tr th {\n",
       "        vertical-align: top;\n",
       "    }\n",
       "\n",
       "    .dataframe thead th {\n",
       "        text-align: right;\n",
       "    }\n",
       "</style>\n",
       "<table border=\"1\" class=\"dataframe\">\n",
       "  <thead>\n",
       "    <tr style=\"text-align: right;\">\n",
       "      <th></th>\n",
       "      <th>date</th>\n",
       "      <th>review_text</th>\n",
       "      <th>rating</th>\n",
       "      <th>bank_name</th>\n",
       "      <th>source</th>\n",
       "      <th>cleaned_review</th>\n",
       "    </tr>\n",
       "  </thead>\n",
       "  <tbody>\n",
       "    <tr>\n",
       "      <th>0</th>\n",
       "      <td>2025-06-09</td>\n",
       "      <td>this app is good for you guys</td>\n",
       "      <td>5</td>\n",
       "      <td>Dashen Bank</td>\n",
       "      <td>Google Play</td>\n",
       "      <td>this app is good for you guys</td>\n",
       "    </tr>\n",
       "    <tr>\n",
       "      <th>1</th>\n",
       "      <td>2025-06-09</td>\n",
       "      <td>wow</td>\n",
       "      <td>5</td>\n",
       "      <td>Dashen Bank</td>\n",
       "      <td>Google Play</td>\n",
       "      <td>wow</td>\n",
       "    </tr>\n",
       "    <tr>\n",
       "      <th>2</th>\n",
       "      <td>2025-06-08</td>\n",
       "      <td>kalid</td>\n",
       "      <td>5</td>\n",
       "      <td>Dashen Bank</td>\n",
       "      <td>Google Play</td>\n",
       "      <td>kalid</td>\n",
       "    </tr>\n",
       "    <tr>\n",
       "      <th>3</th>\n",
       "      <td>2025-06-07</td>\n",
       "      <td>I like this mobile banking app very much. Over...</td>\n",
       "      <td>2</td>\n",
       "      <td>Dashen Bank</td>\n",
       "      <td>Google Play</td>\n",
       "      <td>I like this mobile banking app very much Overa...</td>\n",
       "    </tr>\n",
       "    <tr>\n",
       "      <th>4</th>\n",
       "      <td>2025-06-06</td>\n",
       "      <td>love</td>\n",
       "      <td>3</td>\n",
       "      <td>Dashen Bank</td>\n",
       "      <td>Google Play</td>\n",
       "      <td>love</td>\n",
       "    </tr>\n",
       "  </tbody>\n",
       "</table>\n",
       "</div>"
      ],
      "text/plain": [
       "         date                                        review_text  rating  \\\n",
       "0  2025-06-09                      this app is good for you guys       5   \n",
       "1  2025-06-09                                                wow       5   \n",
       "2  2025-06-08                                              kalid       5   \n",
       "3  2025-06-07  I like this mobile banking app very much. Over...       2   \n",
       "4  2025-06-06                                               love       3   \n",
       "\n",
       "     bank_name       source                                     cleaned_review  \n",
       "0  Dashen Bank  Google Play                      this app is good for you guys  \n",
       "1  Dashen Bank  Google Play                                                wow  \n",
       "2  Dashen Bank  Google Play                                              kalid  \n",
       "3  Dashen Bank  Google Play  I like this mobile banking app very much Overa...  \n",
       "4  Dashen Bank  Google Play                                               love  "
      ]
     },
     "execution_count": 60,
     "metadata": {},
     "output_type": "execute_result"
    }
   ],
   "source": [
    "df.head()"
   ]
  },
  {
   "cell_type": "code",
   "execution_count": 61,
   "id": "c8c9bdf5",
   "metadata": {},
   "outputs": [
    {
     "data": {
      "text/html": [
       "<div>\n",
       "<style scoped>\n",
       "    .dataframe tbody tr th:only-of-type {\n",
       "        vertical-align: middle;\n",
       "    }\n",
       "\n",
       "    .dataframe tbody tr th {\n",
       "        vertical-align: top;\n",
       "    }\n",
       "\n",
       "    .dataframe thead th {\n",
       "        text-align: right;\n",
       "    }\n",
       "</style>\n",
       "<table border=\"1\" class=\"dataframe\">\n",
       "  <thead>\n",
       "    <tr style=\"text-align: right;\">\n",
       "      <th></th>\n",
       "      <th>review_text</th>\n",
       "      <th>cleaned_review</th>\n",
       "    </tr>\n",
       "  </thead>\n",
       "  <tbody>\n",
       "    <tr>\n",
       "      <th>0</th>\n",
       "      <td>this app is good for you guys</td>\n",
       "      <td>this app is good for you guys</td>\n",
       "    </tr>\n",
       "    <tr>\n",
       "      <th>1</th>\n",
       "      <td>wow</td>\n",
       "      <td>wow</td>\n",
       "    </tr>\n",
       "    <tr>\n",
       "      <th>2</th>\n",
       "      <td>kalid</td>\n",
       "      <td>kalid</td>\n",
       "    </tr>\n",
       "    <tr>\n",
       "      <th>3</th>\n",
       "      <td>I like this mobile banking app very much. Over...</td>\n",
       "      <td>I like this mobile banking app very much Overa...</td>\n",
       "    </tr>\n",
       "    <tr>\n",
       "      <th>4</th>\n",
       "      <td>love</td>\n",
       "      <td>love</td>\n",
       "    </tr>\n",
       "  </tbody>\n",
       "</table>\n",
       "</div>"
      ],
      "text/plain": [
       "                                         review_text  \\\n",
       "0                      this app is good for you guys   \n",
       "1                                                wow   \n",
       "2                                              kalid   \n",
       "3  I like this mobile banking app very much. Over...   \n",
       "4                                               love   \n",
       "\n",
       "                                      cleaned_review  \n",
       "0                      this app is good for you guys  \n",
       "1                                                wow  \n",
       "2                                              kalid  \n",
       "3  I like this mobile banking app very much Overa...  \n",
       "4                                               love  "
      ]
     },
     "execution_count": 61,
     "metadata": {},
     "output_type": "execute_result"
    }
   ],
   "source": [
    "# Show example cleaned output\n",
    "df[['review_text', 'cleaned_review']].head()"
   ]
  },
  {
   "cell_type": "code",
   "execution_count": 62,
   "id": "fada09c1",
   "metadata": {},
   "outputs": [],
   "source": [
    "# Save cleaned results\n",
    "df.drop(columns=['review_text', 'bank_name', 'source']).to_csv(\"../data/Dashen_Bank_cleaned.csv\", index=False)\n"
   ]
  },
  {
   "cell_type": "code",
   "execution_count": null,
   "id": "5fb288a7",
   "metadata": {},
   "outputs": [],
   "source": []
  }
 ],
 "metadata": {
  "kernelspec": {
   "display_name": ".venv",
   "language": "python",
   "name": "python3"
  },
  "language_info": {
   "codemirror_mode": {
    "name": "ipython",
    "version": 3
   },
   "file_extension": ".py",
   "mimetype": "text/x-python",
   "name": "python",
   "nbconvert_exporter": "python",
   "pygments_lexer": "ipython3",
   "version": "3.12.7"
  }
 },
 "nbformat": 4,
 "nbformat_minor": 5
}
